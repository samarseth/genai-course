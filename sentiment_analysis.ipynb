{
 "cells": [
  {
   "cell_type": "code",
   "execution_count": 8,
   "id": "883a698d-6ead-4390-afae-bea083bede02",
   "metadata": {},
   "outputs": [],
   "source": [
    "import openai\n",
    "import os\n",
    "import getpass\n",
    "import csv"
   ]
  },
  {
   "cell_type": "code",
   "execution_count": 9,
   "id": "23b488a7-75cc-4833-815f-db6486d23a78",
   "metadata": {},
   "outputs": [],
   "source": [
    "from openai import OpenAI"
   ]
  },
  {
   "cell_type": "code",
   "execution_count": 10,
   "id": "ad42e5c9-1834-493e-9b48-9785cc747388",
   "metadata": {},
   "outputs": [
    {
     "name": "stdin",
     "output_type": "stream",
     "text": [
      " ········\n"
     ]
    }
   ],
   "source": [
    "os.environ[\"OPENAI_API_KEY\"] = getpass.getpass()"
   ]
  },
  {
   "cell_type": "code",
   "execution_count": 11,
   "id": "44450803-94ac-4c3e-8a2c-5e9f619a12ac",
   "metadata": {},
   "outputs": [],
   "source": [
    "client = OpenAI()"
   ]
  },
  {
   "cell_type": "code",
   "execution_count": 12,
   "id": "81327fd3-9bc6-4923-a37d-29c99db09021",
   "metadata": {},
   "outputs": [
    {
     "data": {
      "text/plain": [
       "<openai.OpenAI at 0x11d8d6750>"
      ]
     },
     "execution_count": 12,
     "metadata": {},
     "output_type": "execute_result"
    }
   ],
   "source": [
    "client"
   ]
  },
  {
   "cell_type": "code",
   "execution_count": 19,
   "id": "bd647f70-a378-40ac-812a-09aa9da0a5a2",
   "metadata": {},
   "outputs": [],
   "source": [
    "def read_feedback(file_name):\n",
    "    with open(file_name, \"r\") as file:\n",
    "        return [row[0] for row in csv.reader(file)][1:]"
   ]
  },
  {
   "cell_type": "code",
   "execution_count": 31,
   "id": "17be1f92-0e24-47b4-b989-404eca120ffd",
   "metadata": {},
   "outputs": [],
   "source": [
    "def analyze_sentiments(comments):\n",
    "    system_content=\"\"\"Analyze the sentiments of each comment. or each, provide:\n",
    "    1. The sentiment (positive, negative, or neutral)\n",
    "    2. An appropriate emoji\n",
    "    Format your response for each comment as: sentiment | emoji\n",
    "    Do not include the comment text in your response.\"\"\"\n",
    "\n",
    "    messages = [{\"role\": \"system\", \"content\": system_content}, {\"role\": \"user\", \"content\": \"\\n\".join(f\"Comment: {comment}\" for comment in comments)}]\n",
    "    response = client.chat.completions.create(model=model, messages=messages)\n",
    "    return response.choices[0].message.content.strip().split('\\n')"
   ]
  },
  {
   "cell_type": "code",
   "execution_count": 32,
   "id": "e15f0a83-9f81-46c5-b120-8ae0205c7acf",
   "metadata": {},
   "outputs": [],
   "source": [
    "def format_results(comments, analysis_results):\n",
    "    formatted_results = []\n",
    "    for comment, analysis in zip(comments, analysis_results):\n",
    "        sentiment, emoji = analysis.split('|')\n",
    "        formatted_results.append(f\"{comment} | {sentiment.strip()} | {emoji.strip()}\")\n",
    "    return formatted_results"
   ]
  },
  {
   "cell_type": "code",
   "execution_count": 33,
   "id": "530b043d-55de-498f-961b-d1664026d7c4",
   "metadata": {},
   "outputs": [],
   "source": [
    "def main():\n",
    "    file_path = \"feedback.csv\"\n",
    "    comments = read_feedback(file_path)\n",
    "    analysis_results = analyze_sentiments(comments)\n",
    "    formatted_results = format_results(comments, analysis_results)\n",
    "\n",
    "    print(\"Sentiment Analysis Results:\")\n",
    "    for result in formatted_results:\n",
    "        print(result)\n"
   ]
  },
  {
   "cell_type": "code",
   "execution_count": 34,
   "id": "8d456ae3-0874-4744-b6f5-188c31f4a911",
   "metadata": {},
   "outputs": [
    {
     "ename": "NameError",
     "evalue": "name 'model' is not defined",
     "output_type": "error",
     "traceback": [
      "\u001b[0;31m---------------------------------------------------------------------------\u001b[0m",
      "\u001b[0;31mNameError\u001b[0m                                 Traceback (most recent call last)",
      "Cell \u001b[0;32mIn[34], line 2\u001b[0m\n\u001b[1;32m      1\u001b[0m \u001b[38;5;28;01mif\u001b[39;00m \u001b[38;5;18m__name__\u001b[39m \u001b[38;5;241m==\u001b[39m \u001b[38;5;124m\"\u001b[39m\u001b[38;5;124m__main__\u001b[39m\u001b[38;5;124m\"\u001b[39m:\n\u001b[0;32m----> 2\u001b[0m     main()\n",
      "Cell \u001b[0;32mIn[33], line 4\u001b[0m, in \u001b[0;36mmain\u001b[0;34m()\u001b[0m\n\u001b[1;32m      2\u001b[0m file_path \u001b[38;5;241m=\u001b[39m \u001b[38;5;124m\"\u001b[39m\u001b[38;5;124mfeedback.csv\u001b[39m\u001b[38;5;124m\"\u001b[39m\n\u001b[1;32m      3\u001b[0m comments \u001b[38;5;241m=\u001b[39m read_feedback(file_path)\n\u001b[0;32m----> 4\u001b[0m analysis_results \u001b[38;5;241m=\u001b[39m analyze_sentiments(comments)\n\u001b[1;32m      5\u001b[0m formatted_results \u001b[38;5;241m=\u001b[39m format_results(comments, analysis_results)\n\u001b[1;32m      7\u001b[0m \u001b[38;5;28mprint\u001b[39m(\u001b[38;5;124m\"\u001b[39m\u001b[38;5;124mSentiment Analysis Results:\u001b[39m\u001b[38;5;124m\"\u001b[39m)\n",
      "Cell \u001b[0;32mIn[31], line 9\u001b[0m, in \u001b[0;36manalyze_sentiments\u001b[0;34m(comments)\u001b[0m\n\u001b[1;32m      2\u001b[0m system_content\u001b[38;5;241m=\u001b[39m\u001b[38;5;124m\"\"\"\u001b[39m\u001b[38;5;124mAnalyze the sentiments of each comment. or each, provide:\u001b[39m\n\u001b[1;32m      3\u001b[0m \u001b[38;5;124m1. The sentiment (positive, negative, or neutral)\u001b[39m\n\u001b[1;32m      4\u001b[0m \u001b[38;5;124m2. An appropriate emoji\u001b[39m\n\u001b[1;32m      5\u001b[0m \u001b[38;5;124mFormat your response for each comment as: sentiment | emoji\u001b[39m\n\u001b[1;32m      6\u001b[0m \u001b[38;5;124mDo not include the comment text in your response.\u001b[39m\u001b[38;5;124m\"\"\"\u001b[39m\n\u001b[1;32m      8\u001b[0m messages \u001b[38;5;241m=\u001b[39m [{\u001b[38;5;124m\"\u001b[39m\u001b[38;5;124mrole\u001b[39m\u001b[38;5;124m\"\u001b[39m: \u001b[38;5;124m\"\u001b[39m\u001b[38;5;124msystem\u001b[39m\u001b[38;5;124m\"\u001b[39m, \u001b[38;5;124m\"\u001b[39m\u001b[38;5;124mcontent\u001b[39m\u001b[38;5;124m\"\u001b[39m: system_content}, {\u001b[38;5;124m\"\u001b[39m\u001b[38;5;124mrole\u001b[39m\u001b[38;5;124m\"\u001b[39m: \u001b[38;5;124m\"\u001b[39m\u001b[38;5;124muser\u001b[39m\u001b[38;5;124m\"\u001b[39m, \u001b[38;5;124m\"\u001b[39m\u001b[38;5;124mcontent\u001b[39m\u001b[38;5;124m\"\u001b[39m: \u001b[38;5;124m\"\u001b[39m\u001b[38;5;130;01m\\n\u001b[39;00m\u001b[38;5;124m\"\u001b[39m\u001b[38;5;241m.\u001b[39mjoin(\u001b[38;5;124mf\u001b[39m\u001b[38;5;124m\"\u001b[39m\u001b[38;5;124mComment: \u001b[39m\u001b[38;5;132;01m{\u001b[39;00mcomment\u001b[38;5;132;01m}\u001b[39;00m\u001b[38;5;124m\"\u001b[39m \u001b[38;5;28;01mfor\u001b[39;00m comment \u001b[38;5;129;01min\u001b[39;00m comments)}]\n\u001b[0;32m----> 9\u001b[0m response \u001b[38;5;241m=\u001b[39m client\u001b[38;5;241m.\u001b[39mchat\u001b[38;5;241m.\u001b[39mcompletions\u001b[38;5;241m.\u001b[39mcreate(model\u001b[38;5;241m=\u001b[39mmodel, messages\u001b[38;5;241m=\u001b[39mmessages)\n\u001b[1;32m     10\u001b[0m \u001b[38;5;28;01mreturn\u001b[39;00m response\u001b[38;5;241m.\u001b[39mchoices[\u001b[38;5;241m0\u001b[39m]\u001b[38;5;241m.\u001b[39mmessage\u001b[38;5;241m.\u001b[39mcontent\u001b[38;5;241m.\u001b[39mstrip()\u001b[38;5;241m.\u001b[39msplit(\u001b[38;5;124m'\u001b[39m\u001b[38;5;130;01m\\n\u001b[39;00m\u001b[38;5;124m'\u001b[39m)\n",
      "\u001b[0;31mNameError\u001b[0m: name 'model' is not defined"
     ]
    }
   ],
   "source": [
    "if __name__ == \"__main__\":\n",
    "    main()"
   ]
  },
  {
   "cell_type": "code",
   "execution_count": null,
   "id": "99fee6e8-966d-4050-8954-11c793f68594",
   "metadata": {},
   "outputs": [],
   "source": []
  }
 ],
 "metadata": {
  "kernelspec": {
   "display_name": "Python 3 (ipykernel)",
   "language": "python",
   "name": "python3"
  },
  "language_info": {
   "codemirror_mode": {
    "name": "ipython",
    "version": 3
   },
   "file_extension": ".py",
   "mimetype": "text/x-python",
   "name": "python",
   "nbconvert_exporter": "python",
   "pygments_lexer": "ipython3",
   "version": "3.12.7"
  }
 },
 "nbformat": 4,
 "nbformat_minor": 5
}
