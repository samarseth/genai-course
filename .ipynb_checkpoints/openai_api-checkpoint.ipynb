{
 "cells": [
  {
   "cell_type": "code",
   "execution_count": 1,
   "id": "92711396-ed75-4e08-a23d-eacb8e6789c9",
   "metadata": {},
   "outputs": [
    {
     "name": "stdout",
     "output_type": "stream",
     "text": [
      "git version 2.49.0\n"
     ]
    }
   ],
   "source": [
    "!git --version"
   ]
  },
  {
   "cell_type": "code",
   "execution_count": 2,
   "id": "f1bbca01-eb16-49ba-b3a8-efa78c09cc22",
   "metadata": {},
   "outputs": [
    {
     "name": "stdout",
     "output_type": "stream",
     "text": [
      "fatal: not a git repository (or any of the parent directories): .git\n"
     ]
    }
   ],
   "source": [
    "!git status"
   ]
  },
  {
   "cell_type": "code",
   "execution_count": 3,
   "id": "75f53fc0-1ee9-46a8-916c-d65d7d677cbb",
   "metadata": {},
   "outputs": [
    {
     "name": "stdout",
     "output_type": "stream",
     "text": [
      "Samar Seth\n"
     ]
    }
   ],
   "source": [
    "!git config --get user.name"
   ]
  },
  {
   "cell_type": "code",
   "execution_count": 4,
   "id": "6eb98296-49f5-4f02-a49f-4a88b4202067",
   "metadata": {},
   "outputs": [
    {
     "name": "stdout",
     "output_type": "stream",
     "text": [
      "samar.seth@appfolio.com\n"
     ]
    }
   ],
   "source": [
    "!git config --get user.email"
   ]
  },
  {
   "cell_type": "code",
   "execution_count": 5,
   "id": "a52d53fe-9700-46b5-a822-b41af0d8e8ee",
   "metadata": {},
   "outputs": [
    {
     "name": "stdout",
     "output_type": "stream",
     "text": [
      "fatal: not a git repository (or any of the parent directories): .git\n"
     ]
    }
   ],
   "source": [
    "!git remote add origin git@github.com:samarseth/genai-course.git"
   ]
  },
  {
   "cell_type": "code",
   "execution_count": 6,
   "id": "a3b58c48-f8ac-4412-a773-30e58eaa4368",
   "metadata": {},
   "outputs": [
    {
     "name": "stdout",
     "output_type": "stream",
     "text": [
      "\u001b[33mhint: Using 'master' as the name for the initial branch. This default branch name\u001b[m\n",
      "\u001b[33mhint: is subject to change. To configure the initial branch name to use in all\u001b[m\n",
      "\u001b[33mhint: of your new repositories, which will suppress this warning, call:\u001b[m\n",
      "\u001b[33mhint:\u001b[m\n",
      "\u001b[33mhint: \tgit config --global init.defaultBranch <name>\u001b[m\n",
      "\u001b[33mhint:\u001b[m\n",
      "\u001b[33mhint: Names commonly chosen instead of 'master' are 'main', 'trunk' and\u001b[m\n",
      "\u001b[33mhint: 'development'. The just-created branch can be renamed via this command:\u001b[m\n",
      "\u001b[33mhint:\u001b[m\n",
      "\u001b[33mhint: \tgit branch -m <name>\u001b[m\n",
      "Initialized empty Git repository in /Users/sumar.seth/Desktop/learning/.git/\n"
     ]
    }
   ],
   "source": [
    "!git init"
   ]
  },
  {
   "cell_type": "code",
   "execution_count": 7,
   "id": "54ccd431-b4f1-47e1-bf49-d068936b4d88",
   "metadata": {},
   "outputs": [
    {
     "name": "stdout",
     "output_type": "stream",
     "text": [
      "\u001b[1m\u001b[36m.\u001b[m\u001b[m                     \u001b[1m\u001b[36m.ipynb_checkpoints\u001b[m\u001b[m    practice.rb\n",
      "\u001b[1m\u001b[36m..\u001b[m\u001b[m                    \u001b[1m\u001b[36mbest_quotes\u001b[m\u001b[m           \u001b[1m\u001b[36mreact_router_tutorial\u001b[m\u001b[m\n",
      "\u001b[1m\u001b[36m.git\u001b[m\u001b[m                  openai_api.ipynb      \u001b[1m\u001b[36mrulers\u001b[m\u001b[m\n"
     ]
    }
   ],
   "source": [
    "!ls -a"
   ]
  },
  {
   "cell_type": "code",
   "execution_count": 9,
   "id": "f0234116-4f38-47e2-bfa0-d462545ec08d",
   "metadata": {},
   "outputs": [],
   "source": [
    "!rm -rf .git"
   ]
  },
  {
   "cell_type": "code",
   "execution_count": null,
   "id": "5fd9f1b2-c3ad-4ba1-ad26-d7167e249d03",
   "metadata": {},
   "outputs": [],
   "source": [
    "mkdir open"
   ]
  }
 ],
 "metadata": {
  "kernelspec": {
   "display_name": "Python 3 (ipykernel)",
   "language": "python",
   "name": "python3"
  },
  "language_info": {
   "codemirror_mode": {
    "name": "ipython",
    "version": 3
   },
   "file_extension": ".py",
   "mimetype": "text/x-python",
   "name": "python",
   "nbconvert_exporter": "python",
   "pygments_lexer": "ipython3",
   "version": "3.12.7"
  }
 },
 "nbformat": 4,
 "nbformat_minor": 5
}
