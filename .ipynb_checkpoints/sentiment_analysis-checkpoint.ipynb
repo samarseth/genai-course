{
 "cells": [
  {
   "cell_type": "code",
   "execution_count": 15,
   "id": "883a698d-6ead-4390-afae-bea083bede02",
   "metadata": {},
   "outputs": [],
   "source": [
    "import openai\n",
    "import os\n",
    "import getpass\n",
    "import csv"
   ]
  },
  {
   "cell_type": "code",
   "execution_count": 8,
   "id": "23b488a7-75cc-4833-815f-db6486d23a78",
   "metadata": {},
   "outputs": [],
   "source": [
    "from openai import OpenAI"
   ]
  },
  {
   "cell_type": "code",
   "execution_count": 9,
   "id": "ad42e5c9-1834-493e-9b48-9785cc747388",
   "metadata": {},
   "outputs": [
    {
     "name": "stdin",
     "output_type": "stream",
     "text": [
      " ········\n"
     ]
    }
   ],
   "source": [
    "os.environ[\"OPENAI_API_KEY\"] = getpass.getpass()"
   ]
  },
  {
   "cell_type": "code",
   "execution_count": 10,
   "id": "44450803-94ac-4c3e-8a2c-5e9f619a12ac",
   "metadata": {},
   "outputs": [],
   "source": [
    "client = OpenAI()"
   ]
  },
  {
   "cell_type": "code",
   "execution_count": 11,
   "id": "de472b8d-7770-43b5-9af1-ecd86ce43c42",
   "metadata": {},
   "outputs": [],
   "source": [
    "!mv sentiment_analysis.ipynb Desktop/learning/genai_course/"
   ]
  },
  {
   "cell_type": "code",
   "execution_count": 12,
   "id": "20e4105a-a668-4946-bcae-bf08235f4ca9",
   "metadata": {},
   "outputs": [
    {
     "name": "stdout",
     "output_type": "stream",
     "text": [
      "/Users/sumar.seth\n"
     ]
    }
   ],
   "source": [
    "!pwd"
   ]
  },
  {
   "cell_type": "code",
   "execution_count": 13,
   "id": "81327fd3-9bc6-4923-a37d-29c99db09021",
   "metadata": {},
   "outputs": [
    {
     "data": {
      "text/plain": [
       "<openai.OpenAI at 0x10917f710>"
      ]
     },
     "execution_count": 13,
     "metadata": {},
     "output_type": "execute_result"
    }
   ],
   "source": [
    "client"
   ]
  },
  {
   "cell_type": "code",
   "execution_count": 17,
   "id": "bd647f70-a378-40ac-812a-09aa9da0a5a2",
   "metadata": {},
   "outputs": [],
   "source": [
    "def read_feedback(file_name):\n",
    "    with open(file_name, \"r\") as file:\n",
    "        return [row[0] for row in csv.reader(file)[1:]]"
   ]
  },
  {
   "cell_type": "code",
   "execution_count": 21,
   "id": "17be1f92-0e24-47b4-b989-404eca120ffd",
   "metadata": {},
   "outputs": [],
   "source": [
    "def analyze_sentiments(file_name):\n",
    "    system_content=\"\"\"Analyze the sentiments of each comment. or each, provide:\n",
    "    1. The sentiment (positive, negative, or neutral)\n",
    "    2. An appropriate emoji\n",
    "    Format your response for each comment as: sentiment | emoji\n",
    "    Do not include the comment text in your response.\"\"\"\n",
    "\n",
    "    messages = [{\"role\": \"system\", \"content\": system_content}, {\"role\": \"user\", \"content\": \"\\n\".join(f\"Comment: {comment}\" for comment in comments)}]\n",
    "    response = client.chat.completions.create(model=model, messages=messages)\n",
    "    return response.choices[0].message.content.strip().split('\\n')"
   ]
  },
  {
   "cell_type": "code",
   "execution_count": 22,
   "id": "e15f0a83-9f81-46c5-b120-8ae0205c7acf",
   "metadata": {},
   "outputs": [],
   "source": [
    "def format_results(comments, analysis_results):\n",
    "    formatted_results = []\n",
    "    for comment, analysis in zip(comments, analysis_results):\n",
    "        sentiment, emoji = analysis.split('|')\n",
    "        formatted_results.append(f\"{comment} | {sentiment.strip()} | {emoji.strip()}\")\n",
    "    return formatted_results"
   ]
  },
  {
   "cell_type": "code",
   "execution_count": 23,
   "id": "530b043d-55de-498f-961b-d1664026d7c4",
   "metadata": {},
   "outputs": [],
   "source": [
    "def main():\n",
    "    file_path = \"feedback.csv\"\n",
    "    comments = read_feedback(file_path)\n",
    "    analysis_results = analyze_sentiments(comments)\n",
    "    formatted_results = format_results(comments, analysis_results)\n",
    "\n",
    "    print(\"Sentiment Analysis Results:\")\n",
    "    for result in formatted_results:\n",
    "        print(result)\n"
   ]
  },
  {
   "cell_type": "code",
   "execution_count": 25,
   "id": "8d456ae3-0874-4744-b6f5-188c31f4a911",
   "metadata": {},
   "outputs": [
    {
     "ename": "FileNotFoundError",
     "evalue": "[Errno 2] No such file or directory: 'feedback.csv'",
     "output_type": "error",
     "traceback": [
      "\u001b[0;31m---------------------------------------------------------------------------\u001b[0m",
      "\u001b[0;31mFileNotFoundError\u001b[0m                         Traceback (most recent call last)",
      "Cell \u001b[0;32mIn[25], line 2\u001b[0m\n\u001b[1;32m      1\u001b[0m \u001b[38;5;28;01mif\u001b[39;00m \u001b[38;5;18m__name__\u001b[39m \u001b[38;5;241m==\u001b[39m \u001b[38;5;124m\"\u001b[39m\u001b[38;5;124m__main__\u001b[39m\u001b[38;5;124m\"\u001b[39m:\n\u001b[0;32m----> 2\u001b[0m     main()\n",
      "Cell \u001b[0;32mIn[23], line 3\u001b[0m, in \u001b[0;36mmain\u001b[0;34m()\u001b[0m\n\u001b[1;32m      1\u001b[0m \u001b[38;5;28;01mdef\u001b[39;00m \u001b[38;5;21mmain\u001b[39m():\n\u001b[1;32m      2\u001b[0m     file_path \u001b[38;5;241m=\u001b[39m \u001b[38;5;124m\"\u001b[39m\u001b[38;5;124mfeedback.csv\u001b[39m\u001b[38;5;124m\"\u001b[39m\n\u001b[0;32m----> 3\u001b[0m     comments \u001b[38;5;241m=\u001b[39m read_feedback(file_path)\n\u001b[1;32m      4\u001b[0m     analysis_results \u001b[38;5;241m=\u001b[39m analyze_sentiments(comments)\n\u001b[1;32m      5\u001b[0m     formatted_results \u001b[38;5;241m=\u001b[39m format_results(comments, analysis_results)\n",
      "Cell \u001b[0;32mIn[17], line 2\u001b[0m, in \u001b[0;36mread_feedback\u001b[0;34m(file_name)\u001b[0m\n\u001b[1;32m      1\u001b[0m \u001b[38;5;28;01mdef\u001b[39;00m \u001b[38;5;21mread_feedback\u001b[39m(file_name):\n\u001b[0;32m----> 2\u001b[0m     \u001b[38;5;28;01mwith\u001b[39;00m \u001b[38;5;28mopen\u001b[39m(file_name, \u001b[38;5;124m\"\u001b[39m\u001b[38;5;124mr\u001b[39m\u001b[38;5;124m\"\u001b[39m) \u001b[38;5;28;01mas\u001b[39;00m file:\n\u001b[1;32m      3\u001b[0m         \u001b[38;5;28;01mreturn\u001b[39;00m [row[\u001b[38;5;241m0\u001b[39m] \u001b[38;5;28;01mfor\u001b[39;00m row \u001b[38;5;129;01min\u001b[39;00m csv\u001b[38;5;241m.\u001b[39mreader(file)[\u001b[38;5;241m1\u001b[39m:]]\n",
      "File \u001b[0;32m/opt/anaconda3/lib/python3.12/site-packages/IPython/core/interactiveshell.py:324\u001b[0m, in \u001b[0;36m_modified_open\u001b[0;34m(file, *args, **kwargs)\u001b[0m\n\u001b[1;32m    317\u001b[0m \u001b[38;5;28;01mif\u001b[39;00m file \u001b[38;5;129;01min\u001b[39;00m {\u001b[38;5;241m0\u001b[39m, \u001b[38;5;241m1\u001b[39m, \u001b[38;5;241m2\u001b[39m}:\n\u001b[1;32m    318\u001b[0m     \u001b[38;5;28;01mraise\u001b[39;00m \u001b[38;5;167;01mValueError\u001b[39;00m(\n\u001b[1;32m    319\u001b[0m         \u001b[38;5;124mf\u001b[39m\u001b[38;5;124m\"\u001b[39m\u001b[38;5;124mIPython won\u001b[39m\u001b[38;5;124m'\u001b[39m\u001b[38;5;124mt let you open fd=\u001b[39m\u001b[38;5;132;01m{\u001b[39;00mfile\u001b[38;5;132;01m}\u001b[39;00m\u001b[38;5;124m by default \u001b[39m\u001b[38;5;124m\"\u001b[39m\n\u001b[1;32m    320\u001b[0m         \u001b[38;5;124m\"\u001b[39m\u001b[38;5;124mas it is likely to crash IPython. If you know what you are doing, \u001b[39m\u001b[38;5;124m\"\u001b[39m\n\u001b[1;32m    321\u001b[0m         \u001b[38;5;124m\"\u001b[39m\u001b[38;5;124myou can use builtins\u001b[39m\u001b[38;5;124m'\u001b[39m\u001b[38;5;124m open.\u001b[39m\u001b[38;5;124m\"\u001b[39m\n\u001b[1;32m    322\u001b[0m     )\n\u001b[0;32m--> 324\u001b[0m \u001b[38;5;28;01mreturn\u001b[39;00m io_open(file, \u001b[38;5;241m*\u001b[39margs, \u001b[38;5;241m*\u001b[39m\u001b[38;5;241m*\u001b[39mkwargs)\n",
      "\u001b[0;31mFileNotFoundError\u001b[0m: [Errno 2] No such file or directory: 'feedback.csv'"
     ]
    }
   ],
   "source": [
    "if __name__ == \"__main__\":\n",
    "    main()"
   ]
  },
  {
   "cell_type": "code",
   "execution_count": null,
   "id": "99fee6e8-966d-4050-8954-11c793f68594",
   "metadata": {},
   "outputs": [],
   "source": []
  }
 ],
 "metadata": {
  "kernelspec": {
   "display_name": "Python 3 (ipykernel)",
   "language": "python",
   "name": "python3"
  },
  "language_info": {
   "codemirror_mode": {
    "name": "ipython",
    "version": 3
   },
   "file_extension": ".py",
   "mimetype": "text/x-python",
   "name": "python",
   "nbconvert_exporter": "python",
   "pygments_lexer": "ipython3",
   "version": "3.12.7"
  }
 },
 "nbformat": 4,
 "nbformat_minor": 5
}
